{
 "cells": [
  {
   "cell_type": "markdown",
   "id": "17ac2f17",
   "metadata": {},
   "source": [
    "*Primer Pre entregable*  \n",
    "*Militello Gastón*"
   ]
  },
  {
   "cell_type": "code",
   "execution_count": 1,
   "id": "db67d414",
   "metadata": {},
   "outputs": [
    {
     "name": "stdout",
     "output_type": "stream",
     "text": [
      "Weather data: {'coord': {'lon': -58.3772, 'lat': -34.6132}, 'weather': [{'id': 804, 'main': 'Clouds', 'description': 'overcast clouds', 'icon': '04n'}], 'base': 'stations', 'main': {'temp': 20.02, 'feels_like': 20.4, 'temp_min': 18.3, 'temp_max': 20.94, 'pressure': 1013, 'humidity': 89}, 'visibility': 4500, 'wind': {'speed': 5.66, 'deg': 10}, 'clouds': {'all': 100}, 'dt': 1710215834, 'sys': {'type': 1, 'id': 8224, 'country': 'AR', 'sunrise': 1710237039, 'sunset': 1710281747}, 'timezone': -10800, 'id': 3435910, 'name': 'Buenos Aires', 'cod': 200}\n"
     ]
    }
   ],
   "source": [
    "import requests\n",
    "from config import OPENWEATHERMAP_API_KEY\n",
    "import psycopg2\n",
    "from config import DB_NAME, DB_USER, DB_PASSWORD, DB_HOST, DB_PORT\n",
    "\n",
    "def get_weather(city):\n",
    "    url = f\"http://api.openweathermap.org/data/2.5/weather?q={city}&appid={OPENWEATHERMAP_API_KEY}&units=metric\"\n",
    "    try:\n",
    "        response = requests.get(url)\n",
    "        response.raise_for_status()  # Verificar errores HTTP\n",
    "        data = response.json()\n",
    "        return data\n",
    "    except requests.exceptions.RequestException as e:\n",
    "        print(\"Error:\", e)\n",
    "        return None\n",
    "\n",
    "def main():\n",
    "    city = \"Buenos Aires\"  # Nombre de la ciudad para los datos\n",
    "    weather_data = get_weather(city)\n",
    "    \n",
    "    if weather_data:\n",
    "        print(\"Weather data:\", weather_data)\n",
    "    else:\n",
    "        print(\"No se pudieron recuperar los datos meteorológicos.\")\n",
    "\n",
    "\n",
    "# Conexión a Redshift\n",
    "conn = psycopg2.connect(\n",
    "    dbname=DB_NAME,\n",
    "    user=DB_USER,\n",
    "    password=DB_PASSWORD,\n",
    "    host=DB_HOST,\n",
    "    port=DB_PORT\n",
    ")\n",
    "\n",
    "# Cursor para ejecutar comandos SQL\n",
    "cur = conn.cursor()\n",
    "\n",
    "# Comando SQL para crear la tabla\n",
    "create_table_sql = \"\"\"\n",
    "CREATE TABLE IF NOT EXISTS weather_data (\n",
    "    id INT IDENTITY(1,1),\n",
    "    city VARCHAR(100),\n",
    "    temperature FLOAT,\n",
    "    humidity FLOAT,\n",
    "    timestamp TIMESTAMP DEFAULT CURRENT_TIMESTAMP\n",
    ");\n",
    "\"\"\"\n",
    "\n",
    "# Ejecutar el comando SQL para crear la tabla\n",
    "cur.execute(create_table_sql)\n",
    "\n",
    "# Guardar los cambios en la base de datos\n",
    "conn.commit()\n",
    "\n",
    "# Cerrar el cursor y la conexión\n",
    "cur.close()\n",
    "conn.close()\n",
    "\n",
    "if __name__ == \"__main__\":\n",
    "    main()"
   ]
  }
 ],
 "metadata": {
  "kernelspec": {
   "display_name": "Python 3 (ipykernel)",
   "language": "python",
   "name": "python3"
  },
  "language_info": {
   "codemirror_mode": {
    "name": "ipython",
    "version": 3
   },
   "file_extension": ".py",
   "mimetype": "text/x-python",
   "name": "python",
   "nbconvert_exporter": "python",
   "pygments_lexer": "ipython3",
   "version": "3.9.13"
  }
 },
 "nbformat": 4,
 "nbformat_minor": 5
}
