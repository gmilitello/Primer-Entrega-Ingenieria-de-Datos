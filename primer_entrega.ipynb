{
 "cells": [
  {
   "cell_type": "markdown",
   "id": "17ac2f17",
   "metadata": {},
   "source": [
    "*Primer Pre entregable*  \n",
    "*Militello Gastón*"
   ]
  },
  {
   "cell_type": "code",
   "execution_count": 1,
   "id": "db67d414",
   "metadata": {},
   "outputs": [
    {
     "name": "stdout",
     "output_type": "stream",
     "text": [
      "Datos meteorológicos: {'coord': {'lon': -58.3772, 'lat': -34.6132}, 'weather': [{'id': 803, 'main': 'Clouds', 'description': 'broken clouds', 'icon': '04d'}], 'base': 'stations', 'main': {'temp': 25.24, 'feels_like': 26.14, 'temp_min': 24.4, 'temp_max': 26.66, 'pressure': 1004, 'humidity': 89}, 'visibility': 10000, 'wind': {'speed': 6.71, 'deg': 110, 'gust': 0}, 'clouds': {'all': 75}, 'dt': 1710882557, 'sys': {'type': 2, 'id': 2092396, 'country': 'AR', 'sunrise': 1710842173, 'sunset': 1710885963}, 'timezone': -10800, 'id': 3435910, 'name': 'Buenos Aires', 'cod': 200}\n",
      "Datos meteorológicos insertados en Redshift correctamente.\n"
     ]
    }
   ],
   "source": [
    "import requests\n",
    "from dotenv import load_dotenv\n",
    "import os\n",
    "import psycopg2\n",
    "\n",
    "# Cargar variables de entorno desde el archivo .env\n",
    "load_dotenv()\n",
    "\n",
    "def get_weather(city):\n",
    "    api_key = os.getenv(\"OPENWEATHERMAP_API_KEY\")\n",
    "    url = f\"http://api.openweathermap.org/data/2.5/weather?q={city}&appid={api_key}&units=metric\"\n",
    "    try:\n",
    "        response = requests.get(url)\n",
    "        response.raise_for_status()  # Verificar errores HTTP\n",
    "        data = response.json()\n",
    "        return data\n",
    "    except requests.exceptions.RequestException as e:\n",
    "        print(\"Error:\", e)\n",
    "        return None\n",
    "\n",
    "def insert_weather_data_into_redshift(data):\n",
    "    try:\n",
    "        # Conexión a Redshift\n",
    "        conn = psycopg2.connect(\n",
    "            dbname=os.getenv(\"DB_NAME\"),\n",
    "            user=os.getenv(\"DB_USER\"),\n",
    "            password=os.getenv(\"DB_PASSWORD\"),\n",
    "            host=os.getenv(\"DB_HOST\"),\n",
    "            port=os.getenv(\"DB_PORT\")\n",
    "        )\n",
    "\n",
    "        # Cursor para ejecutar comandos SQL\n",
    "        cur = conn.cursor()\n",
    "\n",
    "        # Insertar los datos meteorológicos en la tabla de Redshift\n",
    "        query = \"\"\"\n",
    "            INSERT INTO weather_data (city, temperature, humidity)\n",
    "            VALUES (%s, %s, %s)\n",
    "        \"\"\"\n",
    "        cur.execute(query, (data['name'], data['main']['temp'], data['main']['humidity']))\n",
    "\n",
    "        # Guardar los cambios en la base de datos\n",
    "        conn.commit()\n",
    "\n",
    "        print(\"Datos meteorológicos insertados en Redshift correctamente.\")\n",
    "    except Exception as e:\n",
    "        print(\"Error al insertar datos en Redshift:\", e)\n",
    "    finally:\n",
    "        # Cerrar el cursor y la conexión\n",
    "        cur.close()\n",
    "        conn.close()\n",
    "\n",
    "def main():\n",
    "    city = \"Buenos Aires\"  # Nombre de la ciudad para los datos\n",
    "    weather_data = get_weather(city)\n",
    "    \n",
    "    if weather_data:\n",
    "        print(\"Datos meteorológicos:\", weather_data)\n",
    "        insert_weather_data_into_redshift(weather_data)\n",
    "    else:\n",
    "        print(\"No se pudieron recuperar los datos meteorológicos.\")\n",
    "\n",
    "if __name__ == \"__main__\":\n",
    "    main()"
   ]
  },
  {
   "cell_type": "code",
   "execution_count": null,
   "id": "4dfd64c2",
   "metadata": {},
   "outputs": [],
   "source": []
  }
 ],
 "metadata": {
  "kernelspec": {
   "display_name": "Python 3 (ipykernel)",
   "language": "python",
   "name": "python3"
  },
  "language_info": {
   "codemirror_mode": {
    "name": "ipython",
    "version": 3
   },
   "file_extension": ".py",
   "mimetype": "text/x-python",
   "name": "python",
   "nbconvert_exporter": "python",
   "pygments_lexer": "ipython3",
   "version": "3.9.13"
  }
 },
 "nbformat": 4,
 "nbformat_minor": 5
}
