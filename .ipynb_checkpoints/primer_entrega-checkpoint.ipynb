{
 "cells": [
  {
   "cell_type": "markdown",
   "id": "17ac2f17",
   "metadata": {},
   "source": [
    "*Primer Pre entregable*  \n",
    "*Militello Gastón*"
   ]
  },
  {
   "cell_type": "code",
   "execution_count": 1,
   "id": "db67d414",
   "metadata": {},
   "outputs": [
    {
     "name": "stdout",
     "output_type": "stream",
     "text": [
      "Weather data: {'coord': {'lon': -58.3772, 'lat': -34.6132}, 'weather': [{'id': 800, 'main': 'Clear', 'description': 'clear sky', 'icon': '01d'}], 'base': 'stations', 'main': {'temp': 29.5, 'feels_like': 31.56, 'temp_min': 29.32, 'temp_max': 31.1, 'pressure': 1007, 'humidity': 58}, 'visibility': 10000, 'wind': {'speed': 3.58, 'deg': 83, 'gust': 3.58}, 'clouds': {'all': 2}, 'dt': 1709928738, 'sys': {'type': 2, 'id': 2092396, 'country': 'AR', 'sunrise': 1709891242, 'sunset': 1709936474}, 'timezone': -10800, 'id': 3435910, 'name': 'Buenos Aires', 'cod': 200}\n"
     ]
    }
   ],
   "source": [
    "import requests\n",
    "from config import OPENWEATHERMAP_API_KEY\n",
    "import psycopg2\n",
    "from config import DB_NAME, DB_USER, DB_PASSWORD, DB_HOST, DB_PORT\n",
    "\n",
    "def get_weather(city):\n",
    "    url = f\"http://api.openweathermap.org/data/2.5/weather?q={city}&appid={OPENWEATHERMAP_API_KEY}&units=metric\"\n",
    "    try:\n",
    "        response = requests.get(url)\n",
    "        response.raise_for_status()  # Verificar errores HTTP\n",
    "        data = response.json()\n",
    "        return data\n",
    "    except requests.exceptions.RequestException as e:\n",
    "        print(\"Error:\", e)\n",
    "        return None\n",
    "\n",
    "def main():\n",
    "    city = \"Buenos Aires\"  # Nombre de la ciudad para los datos\n",
    "    weather_data = get_weather(city)\n",
    "    \n",
    "    if weather_data:\n",
    "        print(\"Weather data:\", weather_data)\n",
    "    else:\n",
    "        print(\"No se pudieron recuperar los datos meteorológicos.\")\n",
    "\n",
    "if __name__ == \"__main__\":\n",
    "    main()\n",
    "\n",
    "# Conexión a Redshift\n",
    "conn = psycopg2.connect(\n",
    "    dbname=DB_NAME,\n",
    "    user=DB_USER,\n",
    "    password=DB_PASSWORD,\n",
    "    host=DB_HOST,\n",
    "    port=DB_PORT\n",
    ")\n",
    "\n",
    "# Cursor para ejecutar comandos SQL\n",
    "cur = conn.cursor()\n",
    "\n",
    "# Comando SQL para crear la tabla\n",
    "create_table_sql = \"\"\"\n",
    "CREATE TABLE IF NOT EXISTS weather_data (\n",
    "    id INT IDENTITY(1,1),\n",
    "    city VARCHAR(100),\n",
    "    temperature FLOAT,\n",
    "    humidity FLOAT,\n",
    "    timestamp TIMESTAMP DEFAULT CURRENT_TIMESTAMP\n",
    ");\n",
    "\"\"\"\n",
    "\n",
    "# Ejecutar el comando SQL para crear la tabla\n",
    "cur.execute(create_table_sql)\n",
    "\n",
    "# Guardar los cambios en la base de datos\n",
    "conn.commit()\n",
    "\n",
    "# Cerrar el cursor y la conexión\n",
    "cur.close()\n",
    "conn.close()"
   ]
  }
 ],
 "metadata": {
  "kernelspec": {
   "display_name": "Python 3 (ipykernel)",
   "language": "python",
   "name": "python3"
  },
  "language_info": {
   "codemirror_mode": {
    "name": "ipython",
    "version": 3
   },
   "file_extension": ".py",
   "mimetype": "text/x-python",
   "name": "python",
   "nbconvert_exporter": "python",
   "pygments_lexer": "ipython3",
   "version": "3.9.13"
  }
 },
 "nbformat": 4,
 "nbformat_minor": 5
}
